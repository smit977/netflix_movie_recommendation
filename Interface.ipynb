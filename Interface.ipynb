{
 "cells": [
  {
   "cell_type": "code",
   "execution_count": 1,
   "metadata": {},
   "outputs": [],
   "source": [
    "import tkinter as tk\n",
    "import numpy as np\n",
    "import pickle\n",
    "import pandas as pd"
   ]
  },
  {
   "cell_type": "code",
   "execution_count": 2,
   "metadata": {},
   "outputs": [],
   "source": [
    "from tkinter import *\n",
    "  \n",
    "root = Tk()\n",
    "root.geometry(\"500x600\")\n",
    "root.title(\" Movie Recomendation \")\n",
    "fontButton='Helvetica 15 bold'\n",
    "fontLabel='Helvetica 20 bold'\n",
    "full_data=pd.read_csv(\"C:\\\\Users\\\\HP\\\\movie.csv\")\n",
    "\n",
    "def clear():\n",
    "    inputtxt.delete('1.0', END)\n",
    "    Output.delete('1.0', END)\n",
    "\n",
    "\n",
    "def Take_input():\n",
    "    with open('E:/downloadschrome/simi.pkl','rb') as f:\n",
    "        movie = inputtxt.get(\"1.0\", \"end-1c\")\n",
    "        movie=movie.lower()\n",
    "        similarity = pickle.load(f)\n",
    "        if movie not in full_data['movie_title'].unique():\n",
    "            Output.insert(END, \"Sorry the movie you enter is not available in currrent data\")\n",
    "\n",
    "        else:\n",
    "            i = full_data.loc[full_data['movie_title']==movie].index[0]\n",
    "            lst = list(enumerate(similarity[i]))\n",
    "            lst = sorted(lst, key = lambda x:x[1] ,reverse=True)\n",
    "            lst = lst[1:11] # excluding first item since it is the requested movie itself\n",
    "            l = []\n",
    "            for i in range(len(lst)):\n",
    "                a = lst[i][0]\n",
    "  \n",
    "                l.append(full_data['movie_title'][a])\n",
    "            \n",
    "                Output.insert(INSERT, f\"{i+1})\"+\" \"+l[i]+\"\\n\")\n",
    "    \n",
    "      \n",
    "l = Label(text = \"Enter movie name for recommendation \")\n",
    "inputtxt = Text(root, height = 5,\n",
    "                width = 50,\n",
    "                bg = \"light yellow\")\n",
    "  \n",
    "Output = Text(root, height = 20, \n",
    "              width = 50, \n",
    "              bg = \"light cyan\")\n",
    "  \n",
    "Display = Button(root, height = 2,\n",
    "                 width = 20, \n",
    "                 text =\"Recommend\",\n",
    "                 bg='light sea green',\n",
    "                 fg='white',\n",
    "                 font=fontButton,\n",
    "                 command = lambda:Take_input())\n",
    "buttonClear=Button(root,text='CLEAR',bg='gold',fg='white',font=fontButton,command=clear)\n",
    "  \n",
    "l.pack()\n",
    "inputtxt.pack()\n",
    "Display.pack()\n",
    "Output.pack()\n",
    "buttonClear.pack()\n",
    "  \n",
    "mainloop()\n"
   ]
  },
  {
   "cell_type": "code",
   "execution_count": null,
   "metadata": {},
   "outputs": [],
   "source": []
  }
 ],
 "metadata": {
  "kernelspec": {
   "display_name": "Python 3",
   "language": "python",
   "name": "python3"
  },
  "language_info": {
   "codemirror_mode": {
    "name": "ipython",
    "version": 3
   },
   "file_extension": ".py",
   "mimetype": "text/x-python",
   "name": "python",
   "nbconvert_exporter": "python",
   "pygments_lexer": "ipython3",
   "version": "3.8.3"
  }
 },
 "nbformat": 4,
 "nbformat_minor": 4
}
